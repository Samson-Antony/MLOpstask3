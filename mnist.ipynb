{
 "cells": [
  {
   "cell_type": "code",
   "execution_count": 1,
   "metadata": {},
   "outputs": [
    {
     "name": "stderr",
     "output_type": "stream",
     "text": [
      "Using TensorFlow backend.\n",
      "C:\\Users\\admin\\anaconda3\\lib\\site-packages\\tensorflow\\python\\framework\\dtypes.py:516: FutureWarning: Passing (type, 1) or '1type' as a synonym of type is deprecated; in a future version of numpy, it will be understood as (type, (1,)) / '(1,)type'.\n",
      "  _np_qint8 = np.dtype([(\"qint8\", np.int8, 1)])\n",
      "C:\\Users\\admin\\anaconda3\\lib\\site-packages\\tensorflow\\python\\framework\\dtypes.py:517: FutureWarning: Passing (type, 1) or '1type' as a synonym of type is deprecated; in a future version of numpy, it will be understood as (type, (1,)) / '(1,)type'.\n",
      "  _np_quint8 = np.dtype([(\"quint8\", np.uint8, 1)])\n",
      "C:\\Users\\admin\\anaconda3\\lib\\site-packages\\tensorflow\\python\\framework\\dtypes.py:518: FutureWarning: Passing (type, 1) or '1type' as a synonym of type is deprecated; in a future version of numpy, it will be understood as (type, (1,)) / '(1,)type'.\n",
      "  _np_qint16 = np.dtype([(\"qint16\", np.int16, 1)])\n",
      "C:\\Users\\admin\\anaconda3\\lib\\site-packages\\tensorflow\\python\\framework\\dtypes.py:519: FutureWarning: Passing (type, 1) or '1type' as a synonym of type is deprecated; in a future version of numpy, it will be understood as (type, (1,)) / '(1,)type'.\n",
      "  _np_quint16 = np.dtype([(\"quint16\", np.uint16, 1)])\n",
      "C:\\Users\\admin\\anaconda3\\lib\\site-packages\\tensorflow\\python\\framework\\dtypes.py:520: FutureWarning: Passing (type, 1) or '1type' as a synonym of type is deprecated; in a future version of numpy, it will be understood as (type, (1,)) / '(1,)type'.\n",
      "  _np_qint32 = np.dtype([(\"qint32\", np.int32, 1)])\n",
      "C:\\Users\\admin\\anaconda3\\lib\\site-packages\\tensorflow\\python\\framework\\dtypes.py:525: FutureWarning: Passing (type, 1) or '1type' as a synonym of type is deprecated; in a future version of numpy, it will be understood as (type, (1,)) / '(1,)type'.\n",
      "  np_resource = np.dtype([(\"resource\", np.ubyte, 1)])\n",
      "C:\\Users\\admin\\anaconda3\\lib\\site-packages\\tensorboard\\compat\\tensorflow_stub\\dtypes.py:541: FutureWarning: Passing (type, 1) or '1type' as a synonym of type is deprecated; in a future version of numpy, it will be understood as (type, (1,)) / '(1,)type'.\n",
      "  _np_qint8 = np.dtype([(\"qint8\", np.int8, 1)])\n",
      "C:\\Users\\admin\\anaconda3\\lib\\site-packages\\tensorboard\\compat\\tensorflow_stub\\dtypes.py:542: FutureWarning: Passing (type, 1) or '1type' as a synonym of type is deprecated; in a future version of numpy, it will be understood as (type, (1,)) / '(1,)type'.\n",
      "  _np_quint8 = np.dtype([(\"quint8\", np.uint8, 1)])\n",
      "C:\\Users\\admin\\anaconda3\\lib\\site-packages\\tensorboard\\compat\\tensorflow_stub\\dtypes.py:543: FutureWarning: Passing (type, 1) or '1type' as a synonym of type is deprecated; in a future version of numpy, it will be understood as (type, (1,)) / '(1,)type'.\n",
      "  _np_qint16 = np.dtype([(\"qint16\", np.int16, 1)])\n",
      "C:\\Users\\admin\\anaconda3\\lib\\site-packages\\tensorboard\\compat\\tensorflow_stub\\dtypes.py:544: FutureWarning: Passing (type, 1) or '1type' as a synonym of type is deprecated; in a future version of numpy, it will be understood as (type, (1,)) / '(1,)type'.\n",
      "  _np_quint16 = np.dtype([(\"quint16\", np.uint16, 1)])\n",
      "C:\\Users\\admin\\anaconda3\\lib\\site-packages\\tensorboard\\compat\\tensorflow_stub\\dtypes.py:545: FutureWarning: Passing (type, 1) or '1type' as a synonym of type is deprecated; in a future version of numpy, it will be understood as (type, (1,)) / '(1,)type'.\n",
      "  _np_qint32 = np.dtype([(\"qint32\", np.int32, 1)])\n",
      "C:\\Users\\admin\\anaconda3\\lib\\site-packages\\tensorboard\\compat\\tensorflow_stub\\dtypes.py:550: FutureWarning: Passing (type, 1) or '1type' as a synonym of type is deprecated; in a future version of numpy, it will be understood as (type, (1,)) / '(1,)type'.\n",
      "  np_resource = np.dtype([(\"resource\", np.ubyte, 1)])\n"
     ]
    },
    {
     "name": "stdout",
     "output_type": "stream",
     "text": [
      "Downloading data from https://s3.amazonaws.com/img-datasets/mnist.npz\n",
      "11493376/11490434 [==============================] - 4s 0us/step\n",
      "Model: \"sequential_1\"\n",
      "_________________________________________________________________\n",
      "Layer (type)                 Output Shape              Param #   \n",
      "=================================================================\n",
      "dense_1 (Dense)              (None, 512)               401920    \n",
      "_________________________________________________________________\n",
      "dense_2 (Dense)              (None, 256)               131328    \n",
      "_________________________________________________________________\n",
      "dense_3 (Dense)              (None, 10)                2570      \n",
      "=================================================================\n",
      "Total params: 535,818\n",
      "Trainable params: 535,818\n",
      "Non-trainable params: 0\n",
      "_________________________________________________________________\n",
      "WARNING:tensorflow:From C:\\Users\\admin\\anaconda3\\lib\\site-packages\\keras\\backend\\tensorflow_backend.py:422: The name tf.global_variables is deprecated. Please use tf.compat.v1.global_variables instead.\n",
      "\n",
      "Epoch 1/8\n",
      "   64/60000 [..............................] - ETA: 7:58:39 - loss: 194.6541 - accuracy: 0.0781 "
     ]
    },
    {
     "name": "stderr",
     "output_type": "stream",
     "text": [
      "C:\\Users\\admin\\anaconda3\\lib\\site-packages\\keras\\callbacks\\callbacks.py:95: RuntimeWarning: Method (on_train_batch_end) is slow compared to the batch update (0.534465). Check your callbacks.\n",
      "  % (hook_name, delta_t_median), RuntimeWarning)\n"
     ]
    },
    {
     "name": "stdout",
     "output_type": "stream",
     "text": [
      "60000/60000 [==============================] - 169s 3ms/step - loss: 1.9428 - accuracy: 0.8733\n",
      "Epoch 2/8\n",
      "60000/60000 [==============================] - 28s 473us/step - loss: 0.5088 - accuracy: 0.9204\n",
      "Epoch 3/8\n",
      "60000/60000 [==============================] - 29s 484us/step - loss: 0.4389 - accuracy: 0.9335\n",
      "Epoch 4/8\n",
      "60000/60000 [==============================] - 30s 500us/step - loss: 0.4501 - accuracy: 0.9338s - loss: 0.447\n",
      "Epoch 5/8\n",
      "60000/60000 [==============================] - 31s 521us/step - loss: 0.4687 - accuracy: 0.9305\n",
      "Epoch 6/8\n",
      "60000/60000 [==============================] - 30s 495us/step - loss: 0.4663 - accuracy: 0.9333\n",
      "Epoch 7/8\n",
      "60000/60000 [==============================] - 29s 489us/step - loss: 0.4880 - accuracy: 0.9291\n",
      "Epoch 8/8\n",
      "60000/60000 [==============================] - 30s 497us/step - loss: 0.5290 - accuracy: 0.9296\n"
     ]
    }
   ],
   "source": [
    "from keras.datasets import mnist\n",
    "dataset=mnist.load_data('mymnist.db')\n",
    "len(dataset)\n",
    "train , test = dataset\n",
    "len(train)\n",
    "X_train , y_train = train\n",
    "X_train.shape\n",
    "X_test, y_test = test\n",
    "X_test.shape\n",
    "img1 = X_train[0]\n",
    "img1\n",
    "img1.shape\n",
    "img1_label=y_train[0]\n",
    "img1_label\n",
    "img_label= y_train[5]\n",
    "img1d=img1.reshape(28*28)\n",
    "img1d.shape\n",
    "X_train.shape\n",
    "X_train_1d = X_train.reshape(-1 , 28*28)\n",
    "X_train = X_train_1d.astype('float32')\n",
    "y_train.shape\n",
    "from keras.utils.np_utils import to_categorical\n",
    "y_train_cat=to_categorical(y_train)\n",
    "y_train_cat\n",
    "from keras.models import Sequential\n",
    "from keras.layers import Dense\n",
    "model =Sequential()\n",
    "model.add(Dense(units=512, input_dim = 28*28, activation= 'relu'))\n",
    "model.add(Dense(units=256, activation='relu'))\n",
    "i=0\n",
    "for i in range(i):\n",
    "    model.add(Dense(units=128,activation='relu'))\n",
    "    \n",
    "model.add(Dense(units=10, activation='softmax'))\n",
    "model.summary()\n",
    "from keras.optimizers import RMSprop\n",
    "\n",
    "model.compile(optimizer= RMSprop(),loss='categorical_crossentropy', metrics=['accuracy'])\n",
    "\n",
    "h = model.fit(X_train, y_train_cat,epochs=8)\n",
    "X_test_1d=X_test.reshape(-1, 28*28)\n",
    "\n",
    "X_test= X_train_1d.astype('float32')\n",
    "y_test_cat=to_categorical(y_test)\n",
    "model.predict(X_test)\n",
    "y_test_cat\n",
    "p=h.history['accuracy']\n",
    "h.history['accuracy'][7]\n",
    "with open('file.txt', 'w') as f:\n",
    "    f.write(str(p[7]))\n",
    "model.save('mymodel.h1')"
   ]
  },
  {
   "cell_type": "code",
   "execution_count": null,
   "metadata": {},
   "outputs": [],
   "source": []
  }
 ],
 "metadata": {
  "kernelspec": {
   "display_name": "Python 3",
   "language": "python",
   "name": "python3"
  },
  "language_info": {
   "codemirror_mode": {
    "name": "ipython",
    "version": 3
   },
   "file_extension": ".py",
   "mimetype": "text/x-python",
   "name": "python",
   "nbconvert_exporter": "python",
   "pygments_lexer": "ipython3",
   "version": "3.7.6"
  }
 },
 "nbformat": 4,
 "nbformat_minor": 4
}
